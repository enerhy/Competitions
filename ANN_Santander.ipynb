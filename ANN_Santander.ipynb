{
  "nbformat": 4,
  "nbformat_minor": 0,
  "metadata": {
    "kernelspec": {
      "name": "python3",
      "display_name": "Python 3"
    },
    "language_info": {
      "codemirror_mode": {
        "name": "ipython",
        "version": 3
      },
      "file_extension": ".py",
      "mimetype": "text/x-python",
      "name": "python",
      "nbconvert_exporter": "python",
      "pygments_lexer": "ipython3",
      "version": "3.6.9"
    },
    "toc": {
      "base_numbering": 1,
      "nav_menu": {},
      "number_sections": true,
      "sideBar": true,
      "skip_h1_title": false,
      "title_cell": "Table of Contents",
      "title_sidebar": "Contents",
      "toc_cell": false,
      "toc_position": {},
      "toc_section_display": true,
      "toc_window_display": false
    },
    "colab": {
      "name": "ANN_Santander.ipynb",
      "provenance": [],
      "collapsed_sections": [],
      "toc_visible": true
    },
    "accelerator": "GPU"
  },
  "cells": [
    {
      "cell_type": "markdown",
      "metadata": {
        "id": "S1JUNOhM78qE",
        "colab_type": "text"
      },
      "source": [
        ""
      ]
    },
    {
      "cell_type": "code",
      "metadata": {
        "id": "OBrWcfGL8AKH",
        "colab_type": "code",
        "outputId": "042f73b2-83e9-4c0c-9906-03d0a3a044a3",
        "colab": {
          "base_uri": "https://localhost:8080/",
          "height": 125
        }
      },
      "source": [
        "from google.colab import drive\n",
        "drive.mount('/content/drive')"
      ],
      "execution_count": 1,
      "outputs": [
        {
          "output_type": "stream",
          "text": [
            "Go to this URL in a browser: https://accounts.google.com/o/oauth2/auth?client_id=947318989803-6bn6qk8qdgf4n4g3pfee6491hc0brc4i.apps.googleusercontent.com&redirect_uri=urn%3aietf%3awg%3aoauth%3a2.0%3aoob&response_type=code&scope=email%20https%3a%2f%2fwww.googleapis.com%2fauth%2fdocs.test%20https%3a%2f%2fwww.googleapis.com%2fauth%2fdrive%20https%3a%2f%2fwww.googleapis.com%2fauth%2fdrive.photos.readonly%20https%3a%2f%2fwww.googleapis.com%2fauth%2fpeopleapi.readonly\n",
            "\n",
            "Enter your authorization code:\n",
            "··········\n",
            "Mounted at /content/drive\n"
          ],
          "name": "stdout"
        }
      ]
    },
    {
      "cell_type": "code",
      "metadata": {
        "id": "sK9fk-1u8Bzb",
        "colab_type": "code",
        "outputId": "b6d4ea6d-3b42-48b1-afaa-2f7d69e777bf",
        "colab": {
          "base_uri": "https://localhost:8080/",
          "height": 52
        }
      },
      "source": [
        "%tensorflow_version 2.x\n",
        "import tensorflow as tf\n",
        "device_name = tf.test.gpu_device_name()\n",
        "if device_name != '/device:GPU:0':\n",
        "  raise SystemError('GPU device not found')\n",
        "print('Found GPU at: {}'.format(device_name))"
      ],
      "execution_count": 2,
      "outputs": [
        {
          "output_type": "stream",
          "text": [
            "TensorFlow 2.x selected.\n",
            "Found GPU at: /device:GPU:0\n"
          ],
          "name": "stdout"
        }
      ]
    },
    {
      "cell_type": "code",
      "metadata": {
        "id": "z0PK1ity8CE0",
        "colab_type": "code",
        "colab": {
          "base_uri": "https://localhost:8080/",
          "height": 34
        },
        "outputId": "61cbbcc9-a906-4b7b-fe33-b6d0975f710f"
      },
      "source": [
        "cd /content/drive/My Drive/Colab Notebooks/Santander"
      ],
      "execution_count": 3,
      "outputs": [
        {
          "output_type": "stream",
          "text": [
            "/content/drive/My Drive/Colab Notebooks/Santander\n"
          ],
          "name": "stdout"
        }
      ]
    },
    {
      "cell_type": "code",
      "metadata": {
        "id": "XEKER3i_8Amq",
        "colab_type": "code",
        "colab": {
          "base_uri": "https://localhost:8080/",
          "height": 52
        },
        "outputId": "f80673e0-033b-49c7-aebe-cd126516bc31"
      },
      "source": [
        "!ls"
      ],
      "execution_count": 4,
      "outputs": [
        {
          "output_type": "stream",
          "text": [
            "ANN_Santander.ipynb  Santander_Customer_Satisfaction.ipynb  test.csv\n",
            "Santander_2.ipynb    Santander_v1.ipynb\t\t\t    train.csv\n"
          ],
          "name": "stdout"
        }
      ]
    },
    {
      "cell_type": "code",
      "metadata": {
        "id": "Rx8AdPe775FR",
        "colab_type": "code",
        "colab": {}
      },
      "source": [
        "import numpy as np\n",
        "import pandas as pd\n",
        "import matplotlib.pyplot as plt\n",
        "import seaborn as sns\n",
        "\n",
        "pd.set_option('display.max_columns', None, 'display.max_rows', 100)"
      ],
      "execution_count": 0,
      "outputs": []
    },
    {
      "cell_type": "code",
      "metadata": {
        "id": "rbcD5Jvj75FX",
        "colab_type": "code",
        "outputId": "87d3839b-1c7a-4c5d-b44b-42bc6f75698d",
        "colab": {
          "base_uri": "https://localhost:8080/",
          "height": 34
        }
      },
      "source": [
        "df = pd.read_csv('train.csv')\n",
        "X_test = pd.read_csv('test.csv')\n",
        "df.shape, X_test.shape"
      ],
      "execution_count": 6,
      "outputs": [
        {
          "output_type": "execute_result",
          "data": {
            "text/plain": [
              "((76020, 371), (75818, 370))"
            ]
          },
          "metadata": {
            "tags": []
          },
          "execution_count": 6
        }
      ]
    },
    {
      "cell_type": "code",
      "metadata": {
        "id": "elpSDiwq75Fb",
        "colab_type": "code",
        "outputId": "28f98b9c-7219-44bc-b79b-fc6ccc45e46a",
        "colab": {
          "base_uri": "https://localhost:8080/",
          "height": 34
        }
      },
      "source": [
        "#Splitting into Train and Dev Set\n",
        "from sklearn.model_selection import train_test_split\n",
        "X_train, X_dev, y_train, y_dev = train_test_split(df.iloc[:,:-1], df.iloc[:,-1] , test_size=0.05, random_state = 0)\n",
        "X_train.shape, X_dev.shape, y_train.shape, y_dev.shape,"
      ],
      "execution_count": 7,
      "outputs": [
        {
          "output_type": "execute_result",
          "data": {
            "text/plain": [
              "((72219, 370), (3801, 370), (72219,), (3801,))"
            ]
          },
          "metadata": {
            "tags": []
          },
          "execution_count": 7
        }
      ]
    },
    {
      "cell_type": "code",
      "metadata": {
        "id": "cqpKcJAN75Fd",
        "colab_type": "code",
        "colab": {}
      },
      "source": [
        "features = ['num_var8_0', 'num_var13', 'imp_op_var39_ult1', 'num_op_var39_efect_ult3', 'saldo_medio_var12_ult3', 'num_var42_0', 'ind_var9_ult1', 'num_op_var41_efect_ult3', 'num_op_var39_comer_ult3', 'num_var24', 'num_var24_0', 'num_var13_corto', 'ind_var13', 'imp_op_var39_efect_ult3', 'ind_var10cte_ult1', 'imp_op_var41_comer_ult1', 'ind_var24', 'num_op_var39_ult3', 'num_var41_0', 'num_var13_0', 'saldo_var42', 'num_med_var22_ult3', 'num_var5_0', 'ind_var13_corto', 'ind_var13_corto_0', 'num_var37_0', 'num_meses_var13_corto_ult3', 'num_var5', 'ind_var37_0', 'num_var45_ult3', 'num_op_var41_comer_ult1', 'ind_var9_cte_ult1', 'num_var13_corto_0', 'num_meses_var12_ult3', 'saldo_medio_var13_corto_ult3', 'saldo_var24', 'num_op_var39_comer_ult1', 'ind_var41_0', 'num_op_var39_ult1', 'num_op_var39_efect_ult1', 'num_op_var39_hace2', 'imp_op_var41_comer_ult3', 'num_var45_hace2', 'num_op_var41_ult3', 'num_var35', 'imp_op_var39_efect_ult1', 'num_meses_var5_ult3', 'saldo_medio_var13_corto_ult1', 'num_var12', 'num_op_var41_comer_ult3', 'saldo_medio_var12_ult1']"
      ],
      "execution_count": 0,
      "outputs": []
    },
    {
      "cell_type": "code",
      "metadata": {
        "id": "Ets9Z8rW75Ff",
        "colab_type": "code",
        "outputId": "2a18048e-e25f-4d89-8976-aa99dd6d3043",
        "colab": {
          "base_uri": "https://localhost:8080/",
          "height": 34
        }
      },
      "source": [
        "len(features)"
      ],
      "execution_count": 9,
      "outputs": [
        {
          "output_type": "execute_result",
          "data": {
            "text/plain": [
              "51"
            ]
          },
          "metadata": {
            "tags": []
          },
          "execution_count": 9
        }
      ]
    },
    {
      "cell_type": "code",
      "metadata": {
        "id": "U_NHSNr-75Fh",
        "colab_type": "code",
        "colab": {}
      },
      "source": [
        "X_train = X_train[features]\n",
        "X_dev = X_dev[features]"
      ],
      "execution_count": 0,
      "outputs": []
    },
    {
      "cell_type": "code",
      "metadata": {
        "id": "BIuQpyLL75Fk",
        "colab_type": "code",
        "outputId": "05c58a13-41de-4c29-f747-8809eaf000eb",
        "colab": {
          "base_uri": "https://localhost:8080/",
          "height": 90
        }
      },
      "source": [
        "from imblearn.over_sampling import SMOTE\n",
        "X_resample, y_resample = SMOTE().fit_sample(X_train,y_train)\n",
        "X_resample.shape, y_resample.shape"
      ],
      "execution_count": 11,
      "outputs": [
        {
          "output_type": "stream",
          "text": [
            "/usr/local/lib/python3.6/dist-packages/sklearn/externals/six.py:31: DeprecationWarning: The module is deprecated in version 0.21 and will be removed in version 0.23 since we've dropped support for Python 2.7. Please rely on the official version of six (https://pypi.org/project/six/).\n",
            "  \"(https://pypi.org/project/six/).\", DeprecationWarning)\n"
          ],
          "name": "stderr"
        },
        {
          "output_type": "execute_result",
          "data": {
            "text/plain": [
              "((138754, 51), (138754,))"
            ]
          },
          "metadata": {
            "tags": []
          },
          "execution_count": 11
        }
      ]
    },
    {
      "cell_type": "markdown",
      "metadata": {
        "id": "ENJTuJk-75Fm",
        "colab_type": "text"
      },
      "source": [
        "# Build the ANN"
      ]
    },
    {
      "cell_type": "code",
      "metadata": {
        "id": "LoZ1BqRk75Fp",
        "colab_type": "code",
        "colab": {}
      },
      "source": [
        "#Scaling\n",
        "from sklearn.preprocessing import StandardScaler\n",
        "scaller = StandardScaler()\n",
        "X_resample = scaller.fit_transform(X_resample)\n",
        "X_dev = scaller.transform(X_dev)"
      ],
      "execution_count": 0,
      "outputs": []
    },
    {
      "cell_type": "code",
      "metadata": {
        "id": "ZxqY1wKj75Fs",
        "colab_type": "code",
        "colab": {}
      },
      "source": [
        "# # Should I scale the dependent variable as well? Why should I\n",
        "# sc_y = StandardScaler()\n",
        "# y_resample = sc_y.fit_transform(y_resample)"
      ],
      "execution_count": 0,
      "outputs": []
    },
    {
      "cell_type": "code",
      "metadata": {
        "id": "YavhPSnk75Fu",
        "colab_type": "code",
        "outputId": "085369a3-02f2-4d84-ab9d-5ce191a0afb0",
        "colab": {
          "base_uri": "https://localhost:8080/",
          "height": 34
        }
      },
      "source": [
        "N, D = X_resample.shape\n",
        "N, D"
      ],
      "execution_count": 14,
      "outputs": [
        {
          "output_type": "execute_result",
          "data": {
            "text/plain": [
              "(138754, 51)"
            ]
          },
          "metadata": {
            "tags": []
          },
          "execution_count": 14
        }
      ]
    },
    {
      "cell_type": "code",
      "metadata": {
        "id": "Pw2K_jm875Fw",
        "colab_type": "code",
        "colab": {}
      },
      "source": [
        "# Build the model\n",
        "model = tf.keras.models.Sequential([\n",
        "  tf.keras.layers.Dense(64, input_shape=(D,), activation='relu'),\n",
        "  tf.keras.layers.Dense(32, input_shape=(D,), activation='tanh'),\n",
        "  tf.keras.layers.Dense(32, input_shape=(D,), activation='relu'),\n",
        "  tf.keras.layers.Dense(1, activation='sigmoid')\n",
        "])"
      ],
      "execution_count": 0,
      "outputs": []
    },
    {
      "cell_type": "code",
      "metadata": {
        "id": "neFie-Fj75Fy",
        "colab_type": "code",
        "outputId": "cec23a28-3c61-49c4-fe84-e8d0c8c1dd11",
        "colab": {
          "base_uri": "https://localhost:8080/",
          "height": 887
        }
      },
      "source": [
        "# Compile and fit\n",
        "opt = tf.keras.optimizers.Adam()\n",
        "model.compile(optimizer=opt, \n",
        "              loss='binary_crossentropy',\n",
        "              metrics=['accuracy'])\n",
        "\n",
        "r = model.fit(X_resample, y_resample, validation_data=(X_dev, y_dev), epochs=50)"
      ],
      "execution_count": 0,
      "outputs": [
        {
          "output_type": "stream",
          "text": [
            "Train on 138754 samples, validate on 3801 samples\n",
            "Epoch 1/50\n",
            "138754/138754 [==============================] - 15s 110us/sample - loss: 0.5637 - accuracy: 0.7271 - val_loss: 0.5295 - val_accuracy: 0.7345\n",
            "Epoch 2/50\n",
            "138754/138754 [==============================] - 13s 94us/sample - loss: 0.5297 - accuracy: 0.7483 - val_loss: 0.5569 - val_accuracy: 0.7130\n",
            "Epoch 3/50\n",
            "138754/138754 [==============================] - 13s 94us/sample - loss: 0.5136 - accuracy: 0.7567 - val_loss: 0.5071 - val_accuracy: 0.7403\n",
            "Epoch 4/50\n",
            "138754/138754 [==============================] - 13s 92us/sample - loss: 0.5051 - accuracy: 0.7615 - val_loss: 0.5879 - val_accuracy: 0.7059\n",
            "Epoch 5/50\n",
            "138754/138754 [==============================] - 13s 94us/sample - loss: 0.4987 - accuracy: 0.7642 - val_loss: 0.5166 - val_accuracy: 0.7419\n",
            "Epoch 6/50\n",
            "138754/138754 [==============================] - 13s 94us/sample - loss: 0.4934 - accuracy: 0.7679 - val_loss: 0.5063 - val_accuracy: 0.7443\n",
            "Epoch 7/50\n",
            "138754/138754 [==============================] - 13s 93us/sample - loss: 0.4881 - accuracy: 0.7714 - val_loss: 0.4958 - val_accuracy: 0.7432\n",
            "Epoch 8/50\n",
            "138754/138754 [==============================] - 13s 91us/sample - loss: 0.4848 - accuracy: 0.7739 - val_loss: 0.5274 - val_accuracy: 0.7435\n",
            "Epoch 9/50\n",
            "138754/138754 [==============================] - 13s 91us/sample - loss: 0.4803 - accuracy: 0.7758 - val_loss: 0.5086 - val_accuracy: 0.7411\n",
            "Epoch 10/50\n",
            "138754/138754 [==============================] - 13s 90us/sample - loss: 0.4775 - accuracy: 0.7778 - val_loss: 0.5384 - val_accuracy: 0.7285\n",
            "Epoch 11/50\n",
            "138754/138754 [==============================] - 13s 93us/sample - loss: 0.4749 - accuracy: 0.7784 - val_loss: 0.5431 - val_accuracy: 0.7338\n",
            "Epoch 12/50\n",
            "138754/138754 [==============================] - 13s 92us/sample - loss: 0.4719 - accuracy: 0.7809 - val_loss: 0.4402 - val_accuracy: 0.7485\n",
            "Epoch 13/50\n",
            "138754/138754 [==============================] - 13s 96us/sample - loss: 0.4697 - accuracy: 0.7817 - val_loss: 0.4757 - val_accuracy: 0.7488\n",
            "Epoch 14/50\n",
            "138754/138754 [==============================] - 13s 94us/sample - loss: 0.4688 - accuracy: 0.7823 - val_loss: 0.4290 - val_accuracy: 0.7587\n",
            "Epoch 15/50\n",
            "138754/138754 [==============================] - 13s 96us/sample - loss: 0.4658 - accuracy: 0.7839 - val_loss: 0.4582 - val_accuracy: 0.7566\n",
            "Epoch 16/50\n",
            "138754/138754 [==============================] - 13s 96us/sample - loss: 0.4642 - accuracy: 0.7850 - val_loss: 0.5288 - val_accuracy: 0.7195\n",
            "Epoch 17/50\n",
            "138754/138754 [==============================] - 13s 96us/sample - loss: 0.4628 - accuracy: 0.7853 - val_loss: 0.4934 - val_accuracy: 0.7435\n",
            "Epoch 18/50\n",
            "138754/138754 [==============================] - 13s 94us/sample - loss: 0.4607 - accuracy: 0.7861 - val_loss: 0.4802 - val_accuracy: 0.7532\n",
            "Epoch 19/50\n",
            "138754/138754 [==============================] - 13s 92us/sample - loss: 0.4604 - accuracy: 0.7866 - val_loss: 0.5765 - val_accuracy: 0.7353\n",
            "Epoch 20/50\n",
            "138754/138754 [==============================] - 13s 94us/sample - loss: 0.4581 - accuracy: 0.7875 - val_loss: 0.4760 - val_accuracy: 0.7516\n",
            "Epoch 21/50\n",
            "138754/138754 [==============================] - 13s 95us/sample - loss: 0.4564 - accuracy: 0.7887 - val_loss: 0.4781 - val_accuracy: 0.7443\n",
            "Epoch 22/50\n",
            "138754/138754 [==============================] - 13s 92us/sample - loss: 0.4561 - accuracy: 0.7888 - val_loss: 0.5165 - val_accuracy: 0.7453\n",
            "Epoch 23/50\n",
            "138754/138754 [==============================] - 13s 91us/sample - loss: 0.4548 - accuracy: 0.7889 - val_loss: 0.4675 - val_accuracy: 0.7537\n",
            "Epoch 24/50\n",
            "120704/138754 [=========================>....] - ETA: 1s - loss: 0.4538 - accuracy: 0.7897"
          ],
          "name": "stdout"
        }
      ]
    },
    {
      "cell_type": "code",
      "metadata": {
        "id": "iSlIuFUb75F0",
        "colab_type": "code",
        "outputId": "f027203d-bc03-4973-b4ab-6127c308c654",
        "colab": {}
      },
      "source": [
        "model.summary()"
      ],
      "execution_count": 0,
      "outputs": [
        {
          "output_type": "stream",
          "text": [
            "Model: \"sequential_3\"\n",
            "_________________________________________________________________\n",
            "Layer (type)                 Output Shape              Param #   \n",
            "=================================================================\n",
            "dense_7 (Dense)              (None, 64)                3328      \n",
            "_________________________________________________________________\n",
            "dense_8 (Dense)              (None, 32)                2080      \n",
            "_________________________________________________________________\n",
            "dense_9 (Dense)              (None, 32)                1056      \n",
            "_________________________________________________________________\n",
            "dense_10 (Dense)             (None, 1)                 33        \n",
            "=================================================================\n",
            "Total params: 6,497\n",
            "Trainable params: 6,497\n",
            "Non-trainable params: 0\n",
            "_________________________________________________________________\n"
          ],
          "name": "stdout"
        }
      ]
    },
    {
      "cell_type": "code",
      "metadata": {
        "id": "TC4nEioU75F2",
        "colab_type": "code",
        "colab": {}
      },
      "source": [
        "predictions = model.predict(X_test[features])"
      ],
      "execution_count": 0,
      "outputs": []
    },
    {
      "cell_type": "code",
      "metadata": {
        "id": "-Gc5mhlW75F-",
        "colab_type": "code",
        "outputId": "3d975156-ba76-4a2c-e3f8-824234b19d27",
        "colab": {}
      },
      "source": [
        "predictions_rounded = np.round(predictions).flatten()\n",
        "predictions"
      ],
      "execution_count": 0,
      "outputs": [
        {
          "output_type": "execute_result",
          "data": {
            "text/plain": [
              "array([[5.00679016e-06],\n",
              "       [1.99675560e-06],\n",
              "       [0.00000000e+00],\n",
              "       ...,\n",
              "       [5.87105751e-05],\n",
              "       [1.00488405e-05],\n",
              "       [5.87080431e-05]], dtype=float32)"
            ]
          },
          "metadata": {
            "tags": []
          },
          "execution_count": 55
        }
      ]
    },
    {
      "cell_type": "code",
      "metadata": {
        "id": "uhloSkJR75GB",
        "colab_type": "code",
        "outputId": "4d60a74b-8065-4dff-c2a5-2eab6affcbef",
        "colab": {}
      },
      "source": [
        "np.shape(predictions)"
      ],
      "execution_count": 0,
      "outputs": [
        {
          "output_type": "execute_result",
          "data": {
            "text/plain": [
              "(75818, 1)"
            ]
          },
          "metadata": {
            "tags": []
          },
          "execution_count": 56
        }
      ]
    },
    {
      "cell_type": "code",
      "metadata": {
        "id": "dLcRvl-S75GE",
        "colab_type": "code",
        "colab": {}
      },
      "source": [
        "# Extracting the result ready to submit\n",
        "test_id = pd.read_csv('test.csv').iloc[:,0]\n",
        "submission = pd.DataFrame({\"ID\":test_id, \"TARGET\":predictions.flatten()})\n",
        "submission.to_csv(\"submission_v12.csv\", index=False)"
      ],
      "execution_count": 0,
      "outputs": []
    },
    {
      "cell_type": "code",
      "metadata": {
        "id": "4WtxTOc075GG",
        "colab_type": "code",
        "colab": {}
      },
      "source": [
        ""
      ],
      "execution_count": 0,
      "outputs": []
    }
  ]
}